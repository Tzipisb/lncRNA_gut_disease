{
 "cells": [
  {
   "cell_type": "code",
   "execution_count": 1,
   "id": "8413ae06",
   "metadata": {},
   "outputs": [
    {
     "name": "stdout",
     "output_type": "stream",
     "text": [
      "failed to load logging config file\n"
     ]
    }
   ],
   "source": [
    "import calour as ca\n",
    "import calour_utils as cu\n",
    "import pandas as pd"
   ]
  },
  {
   "cell_type": "code",
   "execution_count": 2,
   "id": "19754564",
   "metadata": {},
   "outputs": [],
   "source": [
    "ca.set_log_level(11)"
   ]
  },
  {
   "cell_type": "code",
   "execution_count": 3,
   "id": "de74610a",
   "metadata": {},
   "outputs": [],
   "source": [
    "path = '../res_v2/'"
   ]
  },
  {
   "cell_type": "code",
   "execution_count": 4,
   "id": "2ca38521",
   "metadata": {},
   "outputs": [
    {
     "name": "stdout",
     "output_type": "stream",
     "text": [
      "2022-01-04 11:04:18 INFO loaded 278 samples, 3152 features\n",
      "2022-01-04 11:04:18 WARNING Do you forget to normalize your data? It is required before running this function\n",
      "2022-01-04 11:04:18 INFO After filtering, 278 remain.\n",
      "2022-01-04 11:04:18 INFO After filtering, 4 remain.\n",
      "2022-01-04 11:04:18 INFO ignoring 4 features\n"
     ]
    }
   ],
   "source": [
    "dat=ca.read_amplicon(path + 'biom/feature-table.biom',path+'map.txt',normalize=10000,min_reads=2000)\n",
    "dat=dat.normalize_compositional()"
   ]
  },
  {
   "cell_type": "code",
   "execution_count": 5,
   "id": "c408629d",
   "metadata": {},
   "outputs": [],
   "source": [
    "ca.set_log_level(11)"
   ]
  },
  {
   "cell_type": "code",
   "execution_count": 6,
   "id": "f4d14c49",
   "metadata": {},
   "outputs": [],
   "source": [
    "%matplotlib inline"
   ]
  },
  {
   "cell_type": "code",
   "execution_count": 7,
   "id": "27b4c094",
   "metadata": {},
   "outputs": [],
   "source": [
    "datc=dat.sort_samples('PUCAI_C4_WKall')"
   ]
  },
  {
   "cell_type": "code",
   "execution_count": 8,
   "id": "fc7e71d8",
   "metadata": {},
   "outputs": [
    {
     "data": {
      "text/plain": [
       "AmpliconExperiment with 156 samples, 3152 features"
      ]
     },
     "execution_count": 8,
     "metadata": {},
     "output_type": "execute_result"
    }
   ],
   "source": [
    "# sample_type = 'biopsy'\n",
    "sample_type = 'stool'\n",
    "tt=datc.filter_samples('sampleType',sample_type)\n",
    "tt"
   ]
  },
  {
   "cell_type": "code",
   "execution_count": 9,
   "id": "22c5f691",
   "metadata": {},
   "outputs": [
    {
     "name": "stdout",
     "output_type": "stream",
     "text": [
      "2022-01-04 11:04:22 INFO After filtering, 1251 remain.\n"
     ]
    }
   ],
   "source": [
    "datc=tt.cluster_features(10)"
   ]
  },
  {
   "cell_type": "code",
   "execution_count": 14,
   "id": "f171ee60",
   "metadata": {},
   "outputs": [
    {
     "name": "stdout",
     "output_type": "stream",
     "text": [
      "2022-01-04 11:09:05 INFO 92 samples with both values\n",
      "2022-01-04 11:09:05 INFO After filtering, 1116 remain.\n",
      "2022-01-04 11:09:05 INFO 38 samples with value 1 (['mild'])\n",
      "2022-01-04 11:09:05 INFO number of higher in mild: 50. number of higher in severe : 12. total 62\n"
     ]
    },
    {
     "data": {
      "text/plain": [
       "<calour.heatmap.plotgui_qt5.PlotGUI_QT5 at 0x7f15f656de10>"
      ]
     },
     "execution_count": 14,
     "metadata": {},
     "output_type": "execute_result"
    }
   ],
   "source": [
    "dd=datc.diff_abundance('PUCAI_C4_WKall','mild','severe',alpha=0.10)\n",
    "cu.splot(dd,'PUCAI_C4_WKall',barx_fields=['PUCAI_C4_WKall'])"
   ]
  },
  {
   "cell_type": "code",
   "execution_count": 104,
   "id": "1797e1dc",
   "metadata": {},
   "outputs": [
    {
     "name": "stdout",
     "output_type": "stream",
     "text": [
      "2021-12-27 12:02:00 INFO Metadata field taxonomy not found. Saving biom table without metadata\n"
     ]
    }
   ],
   "source": [
    "dd.save('res/diff-PUCAI_13_a1_' + sample_type + '.txt')"
   ]
  },
  {
   "cell_type": "code",
   "execution_count": null,
   "id": "d5bc9805",
   "metadata": {},
   "outputs": [],
   "source": []
  }
 ],
 "metadata": {
  "kernelspec": {
   "display_name": "Python 3",
   "language": "python",
   "name": "python3"
  },
  "language_info": {
   "codemirror_mode": {
    "name": "ipython",
    "version": 3
   },
   "file_extension": ".py",
   "mimetype": "text/x-python",
   "name": "python",
   "nbconvert_exporter": "python",
   "pygments_lexer": "ipython3",
   "version": "3.6.13"
  }
 },
 "nbformat": 4,
 "nbformat_minor": 5
}
